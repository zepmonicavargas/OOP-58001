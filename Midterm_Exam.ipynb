{
  "nbformat": 4,
  "nbformat_minor": 0,
  "metadata": {
    "colab": {
      "name": "Midterm Exam.ipynb",
      "provenance": [],
      "authorship_tag": "ABX9TyMEaSr9uJqOlNk+7nNOiqVN",
      "include_colab_link": true
    },
    "kernelspec": {
      "name": "python3",
      "display_name": "Python 3"
    },
    "language_info": {
      "name": "python"
    }
  },
  "cells": [
    {
      "cell_type": "markdown",
      "metadata": {
        "id": "view-in-github",
        "colab_type": "text"
      },
      "source": [
        "<a href=\"https://colab.research.google.com/github/zepxyeji/OOP-58001/blob/main/Midterm_Exam.ipynb\" target=\"_parent\"><img src=\"https://colab.research.google.com/assets/colab-badge.svg\" alt=\"Open In Colab\"/></a>"
      ]
    },
    {
      "cell_type": "code",
      "execution_count": 19,
      "metadata": {
        "colab": {
          "base_uri": "https://localhost:8080/"
        },
        "id": "L8YjAmsPYJLf",
        "outputId": "a9ac5b10-1643-4ebe-a19f-13edbeaaae9c"
      },
      "outputs": [
        {
          "output_type": "stream",
          "name": "stdout",
          "text": [
            "Enter temperature in Celsius: 30\n",
            "303.15 Kelvin\n",
            "86.0 Fahrenheit\n",
            "Enter temperature in Kelvin: 303.15\n",
            "30.0 Celcius \n",
            "Enter temperature in Farenheit: 86\n",
            "30.0 Celcius \n"
          ]
        }
      ],
      "source": [
        "def main():\n",
        "\n",
        " class TemperatureConversion:\n",
        "\n",
        "  def __init__(self, temp=1):\n",
        "\n",
        "   self._temp = temp\n",
        "\n",
        " class CelsiusToFahrenheit(TemperatureConversion):\n",
        "\n",
        "  def conversion(self):\n",
        "\n",
        "   return (self._temp * 9) / 5 + 32\n",
        "\n",
        " class CelsiusToKelvin(TemperatureConversion):\n",
        "\n",
        "  def conversion(self):\n",
        "\n",
        "   return self._temp + 273.15\n",
        "\n",
        " tempInCelsius = float(input(\"Enter temperature in Celsius: \"))\n",
        "\n",
        " convert = CelsiusToKelvin(tempInCelsius)\n",
        "\n",
        " print(str(convert.conversion()) + \" Kelvin\")\n",
        "\n",
        " convert = CelsiusToFahrenheit(tempInCelsius)\n",
        "\n",
        " print(str(convert.conversion()) + \" Fahrenheit\")\n",
        "\n",
        "\n",
        "\n",
        "\n",
        "\n",
        "main()\n",
        "def main1():\n",
        "\n",
        "  class TemperatureConversion:\n",
        "\n",
        "   def __init__(self, temp=1):\n",
        "\n",
        "    self._temp = temp\n",
        "\n",
        "  class FahrenheitToCelcius(TemperatureConversion):\n",
        "\n",
        "   def conversion(self):\n",
        "\n",
        "    return (self._temp - 32) * 5 / 9\n",
        "\n",
        "  class KelvinToCelcius(TemperatureConversion):\n",
        "\n",
        "   def conversion(self):\n",
        "\n",
        "    return (self._temp - 273.15)\n",
        "\n",
        "  tempInKelvin = float(input(\"Enter temperature in Kelvin: \"))\n",
        "\n",
        "  convert = KelvinToCelcius(tempInKelvin)\n",
        "\n",
        "  print(str(convert.conversion()) + \" Celcius \")\n",
        "\n",
        "  tempInFarenheit = float(input(\"Enter temperature in Farenheit: \"))\n",
        "\n",
        "  convert = FahrenheitToCelcius(tempInFarenheit)\n",
        "\n",
        "  print(str(convert.conversion()) + \" Celcius \")\n",
        "\n",
        "\n",
        "\n",
        "main1()"
      ]
    }
  ]
}