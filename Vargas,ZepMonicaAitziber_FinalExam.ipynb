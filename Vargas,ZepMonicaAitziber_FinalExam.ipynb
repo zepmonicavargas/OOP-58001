{
  "nbformat": 4,
  "nbformat_minor": 0,
  "metadata": {
    "colab": {
      "name": "Vargas,ZepMonicaAitziber_FinalExam.ipynb",
      "provenance": [],
      "authorship_tag": "ABX9TyOzVkiSlteXaYCK3AShJpuR",
      "include_colab_link": true
    },
    "kernelspec": {
      "name": "python3",
      "display_name": "Python 3"
    },
    "language_info": {
      "name": "python"
    }
  },
  "cells": [
    {
      "cell_type": "markdown",
      "metadata": {
        "id": "view-in-github",
        "colab_type": "text"
      },
      "source": [
        "<a href=\"https://colab.research.google.com/github/zepxyeji/OOP-58001/blob/main/Vargas%2CZepMonicaAitziber_FinalExam.ipynb\" target=\"_parent\"><img src=\"https://colab.research.google.com/assets/colab-badge.svg\" alt=\"Open In Colab\"/></a>"
      ]
    },
    {
      "cell_type": "code",
      "execution_count": 5,
      "metadata": {
        "colab": {
          "base_uri": "https://localhost:8080/",
          "height": 356
        },
        "id": "72VrRGhMwlzS",
        "outputId": "d7839c7f-bb82-41ce-ce15-6158158ff203"
      },
      "outputs": [
        {
          "output_type": "error",
          "ename": "TclError",
          "evalue": "ignored",
          "traceback": [
            "\u001b[0;31m---------------------------------------------------------------------------\u001b[0m",
            "\u001b[0;31mTclError\u001b[0m                                  Traceback (most recent call last)",
            "\u001b[0;32m<ipython-input-5-7c9793365cb0>\u001b[0m in \u001b[0;36m<module>\u001b[0;34m()\u001b[0m\n\u001b[1;32m      1\u001b[0m \u001b[0;32mfrom\u001b[0m \u001b[0mtkinter\u001b[0m \u001b[0;32mimport\u001b[0m \u001b[0;34m*\u001b[0m\u001b[0;34m\u001b[0m\u001b[0;34m\u001b[0m\u001b[0m\n\u001b[1;32m      2\u001b[0m \u001b[0;34m\u001b[0m\u001b[0m\n\u001b[0;32m----> 3\u001b[0;31m \u001b[0mwindow\u001b[0m \u001b[0;34m=\u001b[0m \u001b[0mTk\u001b[0m\u001b[0;34m(\u001b[0m\u001b[0;34m)\u001b[0m\u001b[0;34m\u001b[0m\u001b[0;34m\u001b[0m\u001b[0m\n\u001b[0m\u001b[1;32m      4\u001b[0m \u001b[0mwindow\u001b[0m\u001b[0;34m.\u001b[0m\u001b[0mtitle\u001b[0m\u001b[0;34m(\u001b[0m\u001b[0;34m\"Find the smallest number\"\u001b[0m\u001b[0;34m)\u001b[0m\u001b[0;34m\u001b[0m\u001b[0;34m\u001b[0m\u001b[0m\n\u001b[1;32m      5\u001b[0m \u001b[0mwindow\u001b[0m\u001b[0;34m.\u001b[0m\u001b[0mgeometry\u001b[0m\u001b[0;34m(\u001b[0m\u001b[0;34m\"400x300+20+10\"\u001b[0m\u001b[0;34m)\u001b[0m\u001b[0;34m\u001b[0m\u001b[0;34m\u001b[0m\u001b[0m\n",
            "\u001b[0;32m/usr/lib/python3.7/tkinter/__init__.py\u001b[0m in \u001b[0;36m__init__\u001b[0;34m(self, screenName, baseName, className, useTk, sync, use)\u001b[0m\n\u001b[1;32m   2021\u001b[0m                 \u001b[0mbaseName\u001b[0m \u001b[0;34m=\u001b[0m \u001b[0mbaseName\u001b[0m \u001b[0;34m+\u001b[0m \u001b[0mext\u001b[0m\u001b[0;34m\u001b[0m\u001b[0;34m\u001b[0m\u001b[0m\n\u001b[1;32m   2022\u001b[0m         \u001b[0minteractive\u001b[0m \u001b[0;34m=\u001b[0m \u001b[0;36m0\u001b[0m\u001b[0;34m\u001b[0m\u001b[0;34m\u001b[0m\u001b[0m\n\u001b[0;32m-> 2023\u001b[0;31m         \u001b[0mself\u001b[0m\u001b[0;34m.\u001b[0m\u001b[0mtk\u001b[0m \u001b[0;34m=\u001b[0m \u001b[0m_tkinter\u001b[0m\u001b[0;34m.\u001b[0m\u001b[0mcreate\u001b[0m\u001b[0;34m(\u001b[0m\u001b[0mscreenName\u001b[0m\u001b[0;34m,\u001b[0m \u001b[0mbaseName\u001b[0m\u001b[0;34m,\u001b[0m \u001b[0mclassName\u001b[0m\u001b[0;34m,\u001b[0m \u001b[0minteractive\u001b[0m\u001b[0;34m,\u001b[0m \u001b[0mwantobjects\u001b[0m\u001b[0;34m,\u001b[0m \u001b[0museTk\u001b[0m\u001b[0;34m,\u001b[0m \u001b[0msync\u001b[0m\u001b[0;34m,\u001b[0m \u001b[0muse\u001b[0m\u001b[0;34m)\u001b[0m\u001b[0;34m\u001b[0m\u001b[0;34m\u001b[0m\u001b[0m\n\u001b[0m\u001b[1;32m   2024\u001b[0m         \u001b[0;32mif\u001b[0m \u001b[0museTk\u001b[0m\u001b[0;34m:\u001b[0m\u001b[0;34m\u001b[0m\u001b[0;34m\u001b[0m\u001b[0m\n\u001b[1;32m   2025\u001b[0m             \u001b[0mself\u001b[0m\u001b[0;34m.\u001b[0m\u001b[0m_loadtk\u001b[0m\u001b[0;34m(\u001b[0m\u001b[0;34m)\u001b[0m\u001b[0;34m\u001b[0m\u001b[0;34m\u001b[0m\u001b[0m\n",
            "\u001b[0;31mTclError\u001b[0m: no display name and no $DISPLAY environment variable"
          ]
        }
      ],
      "source": [
        "from tkinter import *\n",
        "\n",
        "window = Tk()\n",
        "window.title(\"Find the smallest number\")\n",
        "window.geometry(\"400x300+20+10\")\n",
        "\n",
        "def findSmallest():\n",
        "    L = []\n",
        "    L.append(eval(conOfent2.get()))\n",
        "    L.append(eval(conOfent3.get()))\n",
        "    L.append(eval(conOfent4.get()))\n",
        "    conOfSmallest.set(min(L))\n",
        "\n",
        "lbl1 = Label(window, text = \"The Program that Finds the Smallest Number\")\n",
        "lbl1.grid(row=0, column=1, columnspan=2, sticky=EW)\n",
        "lbl2 = Label(window, text = \"Enter the first number:\")\n",
        "lbl2.grid(row=1, column = 0, sticky=W)\n",
        "conOfent2 = StringVar()\n",
        "ent2 = Entry(window,bd=3,textvariable=conOfent2)\n",
        "ent2.grid(row=1, column = 1)\n",
        "lbl3 = Label(window,text = \"Enter the second number:\")\n",
        "lbl3.grid(row=2, column=0)\n",
        "conOfent3=StringVar()\n",
        "ent3 = Entry(window,bd=3,textvariable=conOfent3)\n",
        "ent3.grid(row=2,column=1)\n",
        "lbl4 = Label(window,text=\"Enter the third number:\")\n",
        "lbl4.grid(row=3,column =0, sticky=W)\n",
        "conOfent4 = StringVar()\n",
        "ent4 = Entry(window,bd=3,textvariable=conOfent4)\n",
        "ent4.grid(row=3, column=1)\n",
        "\n",
        "btn1 = Button(window,text = \"Find the Smallest no.\",command=findSmallest)\n",
        "btn1.grid(row=4, column = 1)\n",
        "lbl5 = Label(window,text=\"The smallest number among the three is:\")\n",
        "lbl5.grid(row=5,column=0,sticky=W)\n",
        "conOfSmallest = StringVar()\n",
        "ent5 = Entry(window,bd=3,state=\"readonly\",textvariable=conOfSmallest)\n",
        "ent5.grid(row=5,column=1)\n",
        "\n",
        "\n",
        "mainloop()"
      ]
    }
  ]
}