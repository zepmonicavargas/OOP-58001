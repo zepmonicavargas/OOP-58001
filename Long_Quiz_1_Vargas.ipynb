{
  "nbformat": 4,
  "nbformat_minor": 0,
  "metadata": {
    "colab": {
      "name": "Long Quiz 1 - Vargas",
      "provenance": [],
      "authorship_tag": "ABX9TyPmwpXbMVVqApedoxifiEMJ",
      "include_colab_link": true
    },
    "kernelspec": {
      "name": "python3",
      "display_name": "Python 3"
    },
    "language_info": {
      "name": "python"
    }
  },
  "cells": [
    {
      "cell_type": "markdown",
      "metadata": {
        "id": "view-in-github",
        "colab_type": "text"
      },
      "source": [
        "<a href=\"https://colab.research.google.com/github/zepxyeji/OOP-58001/blob/main/Long_Quiz_1_Vargas.ipynb\" target=\"_parent\"><img src=\"https://colab.research.google.com/assets/colab-badge.svg\" alt=\"Open In Colab\"/></a>"
      ]
    },
    {
      "cell_type": "markdown",
      "source": [
        "1.   Refer to the laboratory activity format in Week 1 folder.\n",
        "2. Write a Python program that asks the user to enter the radius of a circle and solve its area and perimeter.\n",
        "3. Create a class name Circle allowing you to build a circle with radius and pi attributes.\n",
        "4. Create a method Display() the perimeter and area using an instantiation of a class.\n",
        "5. Create a Perimeter() method to calculate the perimeter of the circle and an Area() method to calculate the area of ​​the circle.\n",
        "\n",
        "\n"
      ],
      "metadata": {
        "id": "1eR8o4hq5-eO"
      }
    },
    {
      "cell_type": "code",
      "execution_count": 1,
      "metadata": {
        "colab": {
          "base_uri": "https://localhost:8080/"
        },
        "id": "Qd3QH5mI5p2m",
        "outputId": "f2355ae5-c7f8-492e-d7a9-4a12cc362e3e"
      },
      "outputs": [
        {
          "output_type": "stream",
          "name": "stdout",
          "text": [
            "8\n",
            "The perimeter of the circle is 50.24\n",
            "The area of the circle is 200.96\n"
          ]
        }
      ],
      "source": [
        "class Circle():\n",
        "  def __init__ (self, radius):\n",
        "    self.radius = int (radius)\n",
        "\n",
        "  def Perimeter (self):\n",
        "    return 2 * pi * self.radius\n",
        "  \n",
        "  def Area (self):\n",
        "    return pi * (self.radius ** 2)\n",
        "\n",
        "  def display (self):\n",
        "    print (\"The perimeter of the circle is\", self.Perimeter())\n",
        "    print (\"The area of the circle is\", self.Area())\n",
        "\n",
        "pi = 3.14\n",
        "pizza = Circle (input())\n",
        "pizza.display()"
      ]
    }
  ]
}