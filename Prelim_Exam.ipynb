{
  "nbformat": 4,
  "nbformat_minor": 0,
  "metadata": {
    "colab": {
      "name": "Prelim Exam.ipynb",
      "provenance": [],
      "authorship_tag": "ABX9TyOymUO4VVnv7kG+ll34Lbx+",
      "include_colab_link": true
    },
    "kernelspec": {
      "name": "python3",
      "display_name": "Python 3"
    },
    "language_info": {
      "name": "python"
    }
  },
  "cells": [
    {
      "cell_type": "markdown",
      "metadata": {
        "id": "view-in-github",
        "colab_type": "text"
      },
      "source": [
        "<a href=\"https://colab.research.google.com/github/zepxyeji/OOP-58001/blob/main/Prelim_Exam.ipynb\" target=\"_parent\"><img src=\"https://colab.research.google.com/assets/colab-badge.svg\" alt=\"Open In Colab\"/></a>"
      ]
    },
    {
      "cell_type": "markdown",
      "source": [
        "Problem 2. (50 points)\n",
        "1. Write a Python to display your full name, student number, age, and course\n",
        "2. Create a class named Student with attributes: Name, Student_No, Age, School,and Course\n",
        "3. Create an object name Myself and assign an instance for each attribute.\n",
        "4. Create a method Self () using an instantiation of a class.\n",
        "5. Insert your GitHub link \"Prelim Exam\" from your repository named \"OOP 58001\" "
      ],
      "metadata": {
        "id": "TVVefWMELUaF"
      }
    },
    {
      "cell_type": "code",
      "execution_count": 14,
      "metadata": {
        "colab": {
          "base_uri": "https://localhost:8080/"
        },
        "id": "wofGnaikGSZQ",
        "outputId": "12b19d72-eeac-45c0-abb7-d56dd09648e8"
      },
      "outputs": [
        {
          "output_type": "stream",
          "name": "stdout",
          "text": [
            "My full name is Vargas, Zep Monica Aitziber.\n",
            "My student number is 202117648.\n",
            "I am 19 years old.\n",
            "I am currently enrolled at Adamson University.\n",
            "My chosen course is BS Computer Engineering.\n"
          ]
        }
      ],
      "source": [
        "class Student():                      #create a class named Student\n",
        "  def __init__(self,name,number,age,school,course):\n",
        "    self.name = name                  #represents the student's full name\n",
        "    self.number = number              #represents her student number\n",
        "    self.age = age                    #represents her age\n",
        "    self.school = school              #represents her currently enrolled university\n",
        "    self.course = course              #represents her chosen course\n",
        "\n",
        "  def FullName(self):\n",
        "    return self.name\n",
        "\n",
        "  def StudentNumber(self):\n",
        "    return self.number\n",
        "  \n",
        "  def Age(self):\n",
        "    return self.age\n",
        "\n",
        "  def University(self):\n",
        "    return self.school\n",
        "\n",
        "  def Course(self):\n",
        "    return self.course\n",
        "\n",
        "  def display(self):\n",
        "    print(\"My full name is\", self.FullName())\n",
        "    print(\"My student number is\", self.StudentNumber())\n",
        "    print(\"I am\", self.Age())\n",
        "    print(\"I am currently enrolled at\", self.University())\n",
        "    print(\"My chosen course is\", self.Course())\n",
        "\n",
        "#to display an info with its attributes\n",
        "info = Student(\"Vargas, Zep Monica Aitziber.\", \"202117648.\", \"19 years old.\", \"Adamson University.\", \"BS Computer Engineering.\")     \n",
        "info.display()"
      ]
    }
  ]
}